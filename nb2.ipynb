{
 "cells": [
  {
   "cell_type": "code",
   "execution_count": null,
   "id": "724a44d4",
   "metadata": {},
   "outputs": [],
   "source": [
    "import pandas as pd\n",
    "import numpy as np"
   ]
  },
  {
   "cell_type": "code",
   "execution_count": null,
   "id": "b407de00",
   "metadata": {},
   "outputs": [],
   "source": [
    "df = pd.read_csv('data/word2.csv')\n",
    "\n",
    "guess_cnt = 0\n",
    "found = [False, False, False, False, False]\n",
    "\n",
    "while True:\n",
    "    guess_cnt = guess_cnt + 1\n",
    "    \n",
    "    shifter = 0\n",
    "    res = 'x'\n",
    "    while res == 'x':\n",
    "        guess = df.iloc[shifter]['0'] + df.iloc[shifter]['1'] + df.iloc[shifter]['2'] + df.iloc[shifter]['3'] + df.iloc[shifter]['4']\n",
    "        shifter = shifter + 1\n",
    "        \n",
    "        print('guess', guess_cnt, ':', guess)\n",
    "        res = input('enter response: ')\n",
    "    \n",
    "    if res == 'done':\n",
    "        break\n",
    "    \n",
    "    for i in range(5):\n",
    "        if res[i] == 'g':\n",
    "            df = df[df[str(i)] == guess[i]]\n",
    "            found[i] = True\n",
    "    \n",
    "    for i in range(5):\n",
    "        if res[i] == 'y':\n",
    "            df = df[df[str(i)] != guess[i]]\n",
    "            df = df[(df['0'] == guess[i]) | (df['1'] == guess[i]) | (df['2'] == guess[i]) | (df['3'] == guess[i]) | (df['4'] == guess[i])]\n",
    "    \n",
    "    for i in range(5):\n",
    "        if res[i] == 'b':\n",
    "            if (not found[0]):\n",
    "                df = df[df['0'] != guess[i]]\n",
    "            if (not found[1]):\n",
    "                df = df[df['1'] != guess[i]]\n",
    "            if (not found[2]):\n",
    "                df = df[df['2'] != guess[i]]\n",
    "            if (not found[3]):\n",
    "                df = df[df['3'] != guess[i]]\n",
    "            if (not found[4]):\n",
    "                df = df[df['4'] != guess[i]]\n",
    "\n",
    "    \n",
    "    df = df.reset_index(drop = True)"
   ]
  }
 ],
 "metadata": {
  "kernelspec": {
   "display_name": "Python 3 (ipykernel)",
   "language": "python",
   "name": "python3"
  },
  "language_info": {
   "codemirror_mode": {
    "name": "ipython",
    "version": 3
   },
   "file_extension": ".py",
   "mimetype": "text/x-python",
   "name": "python",
   "nbconvert_exporter": "python",
   "pygments_lexer": "ipython3",
   "version": "3.9.7"
  }
 },
 "nbformat": 4,
 "nbformat_minor": 5
}
